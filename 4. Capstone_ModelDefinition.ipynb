{
 "cells": [
  {
   "cell_type": "markdown",
   "metadata": {},
   "source": [
    "# **Advanced Data Science Capstone: Automated Image Processing for Breast Tumor Biopsies**\n",
    "\n",
    "## **Feature Creation Notebook**\n",
    "Author: Fernando M. Delgado Chaves\n"
   ]
  },
  {
   "cell_type": "markdown",
   "metadata": {},
   "source": [
    "## 2. Results\n",
    "\n",
    "Import the dataframe from the previous step."
   ]
  },
  {
   "cell_type": "code",
   "execution_count": 1,
   "metadata": {},
   "outputs": [
    {
     "data": {
      "text/html": [
       "<div>\n",
       "<style scoped>\n",
       "    .dataframe tbody tr th:only-of-type {\n",
       "        vertical-align: middle;\n",
       "    }\n",
       "\n",
       "    .dataframe tbody tr th {\n",
       "        vertical-align: top;\n",
       "    }\n",
       "\n",
       "    .dataframe thead th {\n",
       "        text-align: right;\n",
       "    }\n",
       "</style>\n",
       "<table border=\"1\" class=\"dataframe\">\n",
       "  <thead>\n",
       "    <tr style=\"text-align: right;\">\n",
       "      <th></th>\n",
       "      <th>diagnosis</th>\n",
       "      <th>area_mean</th>\n",
       "      <th>smoothness_mean</th>\n",
       "      <th>concave points_mean</th>\n",
       "      <th>symmetry_mean</th>\n",
       "      <th>fractal_dimension_mean</th>\n",
       "      <th>texture_se</th>\n",
       "      <th>area_se</th>\n",
       "      <th>smoothness_se</th>\n",
       "      <th>concave points_se</th>\n",
       "      <th>symmetry_se</th>\n",
       "      <th>fractal_dimension_se</th>\n",
       "      <th>texture_worst</th>\n",
       "      <th>smoothness_worst</th>\n",
       "      <th>symmetry_worst</th>\n",
       "      <th>fractal_dimension_worst</th>\n",
       "    </tr>\n",
       "  </thead>\n",
       "  <tbody>\n",
       "    <tr>\n",
       "      <th>0</th>\n",
       "      <td>M</td>\n",
       "      <td>0.501591</td>\n",
       "      <td>0.289880</td>\n",
       "      <td>0.348757</td>\n",
       "      <td>0.379798</td>\n",
       "      <td>0.141323</td>\n",
       "      <td>0.082589</td>\n",
       "      <td>0.125660</td>\n",
       "      <td>0.119387</td>\n",
       "      <td>0.253836</td>\n",
       "      <td>0.084539</td>\n",
       "      <td>0.091110</td>\n",
       "      <td>0.303571</td>\n",
       "      <td>0.347553</td>\n",
       "      <td>0.233590</td>\n",
       "      <td>0.222878</td>\n",
       "    </tr>\n",
       "    <tr>\n",
       "      <th>1</th>\n",
       "      <td>M</td>\n",
       "      <td>0.449417</td>\n",
       "      <td>0.514309</td>\n",
       "      <td>0.635686</td>\n",
       "      <td>0.509596</td>\n",
       "      <td>0.211247</td>\n",
       "      <td>0.094303</td>\n",
       "      <td>0.162922</td>\n",
       "      <td>0.150831</td>\n",
       "      <td>0.389847</td>\n",
       "      <td>0.205690</td>\n",
       "      <td>0.127006</td>\n",
       "      <td>0.360075</td>\n",
       "      <td>0.483590</td>\n",
       "      <td>0.403706</td>\n",
       "      <td>0.213433</td>\n",
       "    </tr>\n",
       "    <tr>\n",
       "      <th>2</th>\n",
       "      <td>M</td>\n",
       "      <td>0.489290</td>\n",
       "      <td>0.430351</td>\n",
       "      <td>0.518390</td>\n",
       "      <td>0.378283</td>\n",
       "      <td>0.186816</td>\n",
       "      <td>0.093065</td>\n",
       "      <td>0.163688</td>\n",
       "      <td>0.332359</td>\n",
       "      <td>0.357075</td>\n",
       "      <td>0.136179</td>\n",
       "      <td>0.145800</td>\n",
       "      <td>0.123934</td>\n",
       "      <td>0.437364</td>\n",
       "      <td>0.157500</td>\n",
       "      <td>0.142595</td>\n",
       "    </tr>\n",
       "    <tr>\n",
       "      <th>3</th>\n",
       "      <td>M</td>\n",
       "      <td>0.141506</td>\n",
       "      <td>0.678613</td>\n",
       "      <td>0.402038</td>\n",
       "      <td>0.518687</td>\n",
       "      <td>0.551179</td>\n",
       "      <td>0.117132</td>\n",
       "      <td>0.038080</td>\n",
       "      <td>0.197063</td>\n",
       "      <td>0.215382</td>\n",
       "      <td>0.193730</td>\n",
       "      <td>0.144660</td>\n",
       "      <td>0.312633</td>\n",
       "      <td>0.712739</td>\n",
       "      <td>0.477035</td>\n",
       "      <td>0.454939</td>\n",
       "    </tr>\n",
       "    <tr>\n",
       "      <th>4</th>\n",
       "      <td>M</td>\n",
       "      <td>0.380276</td>\n",
       "      <td>0.379164</td>\n",
       "      <td>0.367793</td>\n",
       "      <td>0.370707</td>\n",
       "      <td>0.157119</td>\n",
       "      <td>0.091275</td>\n",
       "      <td>0.087987</td>\n",
       "      <td>0.088418</td>\n",
       "      <td>0.196818</td>\n",
       "      <td>0.081725</td>\n",
       "      <td>0.044367</td>\n",
       "      <td>0.416844</td>\n",
       "      <td>0.482269</td>\n",
       "      <td>0.295289</td>\n",
       "      <td>0.187853</td>\n",
       "    </tr>\n",
       "  </tbody>\n",
       "</table>\n",
       "</div>"
      ],
      "text/plain": [
       "  diagnosis  area_mean  smoothness_mean  concave points_mean  symmetry_mean  \\\n",
       "0         M   0.501591         0.289880             0.348757       0.379798   \n",
       "1         M   0.449417         0.514309             0.635686       0.509596   \n",
       "2         M   0.489290         0.430351             0.518390       0.378283   \n",
       "3         M   0.141506         0.678613             0.402038       0.518687   \n",
       "4         M   0.380276         0.379164             0.367793       0.370707   \n",
       "\n",
       "   fractal_dimension_mean  texture_se   area_se  smoothness_se  \\\n",
       "0                0.141323    0.082589  0.125660       0.119387   \n",
       "1                0.211247    0.094303  0.162922       0.150831   \n",
       "2                0.186816    0.093065  0.163688       0.332359   \n",
       "3                0.551179    0.117132  0.038080       0.197063   \n",
       "4                0.157119    0.091275  0.087987       0.088418   \n",
       "\n",
       "   concave points_se  symmetry_se  fractal_dimension_se  texture_worst  \\\n",
       "0           0.253836     0.084539              0.091110       0.303571   \n",
       "1           0.389847     0.205690              0.127006       0.360075   \n",
       "2           0.357075     0.136179              0.145800       0.123934   \n",
       "3           0.215382     0.193730              0.144660       0.312633   \n",
       "4           0.196818     0.081725              0.044367       0.416844   \n",
       "\n",
       "   smoothness_worst  symmetry_worst  fractal_dimension_worst  \n",
       "0          0.347553        0.233590                 0.222878  \n",
       "1          0.483590        0.403706                 0.213433  \n",
       "2          0.437364        0.157500                 0.142595  \n",
       "3          0.712739        0.477035                 0.454939  \n",
       "4          0.482269        0.295289                 0.187853  "
      ]
     },
     "execution_count": 1,
     "metadata": {},
     "output_type": "execute_result"
    }
   ],
   "source": [
    "import pandas as pd\n",
    "\n",
    "data = pd.read_csv('cleansed_featEng_data.csv')\n",
    "data = data.drop(['Unnamed: 0'], axis=1)\n",
    "data.head()"
   ]
  },
  {
   "cell_type": "markdown",
   "metadata": {},
   "source": [
    "### 2.4 Model Definition and Training\n",
    " \n",
    "Split the data into train and test."
   ]
  },
  {
   "cell_type": "code",
   "execution_count": 2,
   "metadata": {},
   "outputs": [],
   "source": [
    "X = data.drop(['diagnosis'], axis=1)\n",
    "y = data.diagnosis"
   ]
  },
  {
   "cell_type": "code",
   "execution_count": 3,
   "metadata": {},
   "outputs": [],
   "source": [
    "import numpy as np\n",
    "from sklearn.model_selection import train_test_split\n",
    "\n",
    "X_train, X_test, y_train, y_test = train_test_split(X, y, test_size=0.33, random_state=42)"
   ]
  },
  {
   "cell_type": "markdown",
   "metadata": {},
   "source": [
    "In this case, we built two baseline ML models that were reviewed in the previous courses in this specialization diploma: Random Forest and Support Vector Machines (SVM). The chosen metric for model evaluation was the accuracy."
   ]
  },
  {
   "cell_type": "markdown",
   "metadata": {},
   "source": [
    "#### Random Forest Classification"
   ]
  },
  {
   "cell_type": "code",
   "execution_count": 5,
   "metadata": {},
   "outputs": [
    {
     "name": "stderr",
     "output_type": "stream",
     "text": [
      "/home/jupyterlab/conda/envs/python/lib/python3.6/site-packages/sklearn/ensemble/forest.py:246: FutureWarning: The default value of n_estimators will change from 10 in version 0.20 to 100 in 0.22.\n",
      "  \"10 in version 0.20 to 100 in 0.22.\", FutureWarning)\n"
     ]
    },
    {
     "data": {
      "text/html": [
       "<div>\n",
       "<style scoped>\n",
       "    .dataframe tbody tr th:only-of-type {\n",
       "        vertical-align: middle;\n",
       "    }\n",
       "\n",
       "    .dataframe tbody tr th {\n",
       "        vertical-align: top;\n",
       "    }\n",
       "\n",
       "    .dataframe thead th {\n",
       "        text-align: right;\n",
       "    }\n",
       "</style>\n",
       "<table border=\"1\" class=\"dataframe\">\n",
       "  <thead>\n",
       "    <tr style=\"text-align: right;\">\n",
       "      <th></th>\n",
       "      <th>Method</th>\n",
       "      <th>Accuracy</th>\n",
       "    </tr>\n",
       "  </thead>\n",
       "  <tbody>\n",
       "    <tr>\n",
       "      <th>0</th>\n",
       "      <td>Random Forest</td>\n",
       "      <td>0.996979</td>\n",
       "    </tr>\n",
       "  </tbody>\n",
       "</table>\n",
       "</div>"
      ],
      "text/plain": [
       "          Method  Accuracy\n",
       "0  Random Forest  0.996979"
      ]
     },
     "execution_count": 5,
     "metadata": {},
     "output_type": "execute_result"
    },
    {
     "data": {
      "image/png": "[encoded data removed]",
      "text/plain": [
       "<Figure size 432x288 with 2 Axes>"
      ]
     },
     "metadata": {
      "needs_background": "light"
     },
     "output_type": "display_data"
    }
   ],
   "source": [
    "from sklearn.model_selection import train_test_split\n",
    "from sklearn.ensemble import RandomForestClassifier\n",
    "from sklearn.metrics import f1_score,confusion_matrix\n",
    "from sklearn.metrics import accuracy_score\n",
    "import seaborn as sns\n",
    "\n",
    "#random forest classifier with n_estimators=10 (default)\n",
    "clf_rf = RandomForestClassifier(random_state=43)      \n",
    "clr_rf = clf_rf.fit(X_train,y_train)\n",
    "\n",
    "ac = accuracy_score(y_train,clf_rf.predict(X_train))\n",
    "methods = pd.DataFrame({'Method': ['Random Forest'], 'Accuracy': [ac]})\n",
    "cm = confusion_matrix(y_test,clf_rf.predict(X_test))\n",
    "sns.heatmap(cm,annot=True,fmt=\"d\")\n",
    "methods.head()"
   ]
  },
  {
   "cell_type": "markdown",
   "metadata": {},
   "source": [
    "#### SVM"
   ]
  },
  {
   "cell_type": "code",
   "execution_count": 6,
   "metadata": {},
   "outputs": [
    {
     "name": "stderr",
     "output_type": "stream",
     "text": [
      "/home/jupyterlab/conda/envs/python/lib/python3.6/site-packages/sklearn/svm/base.py:196: FutureWarning: The default value of gamma will change from 'auto' to 'scale' in version 0.22 to account better for unscaled features. Set gamma explicitly to 'auto' or 'scale' to avoid this warning.\n",
      "  \"avoid this warning.\", FutureWarning)\n"
     ]
    },
    {
     "data": {
      "text/html": [
       "<div>\n",
       "<style scoped>\n",
       "    .dataframe tbody tr th:only-of-type {\n",
       "        vertical-align: middle;\n",
       "    }\n",
       "\n",
       "    .dataframe tbody tr th {\n",
       "        vertical-align: top;\n",
       "    }\n",
       "\n",
       "    .dataframe thead th {\n",
       "        text-align: right;\n",
       "    }\n",
       "</style>\n",
       "<table border=\"1\" class=\"dataframe\">\n",
       "  <thead>\n",
       "    <tr style=\"text-align: right;\">\n",
       "      <th></th>\n",
       "      <th>Method</th>\n",
       "      <th>Accuracy</th>\n",
       "    </tr>\n",
       "  </thead>\n",
       "  <tbody>\n",
       "    <tr>\n",
       "      <th>0</th>\n",
       "      <td>Random Forest</td>\n",
       "      <td>0.996979</td>\n",
       "    </tr>\n",
       "    <tr>\n",
       "      <th>1</th>\n",
       "      <td>SVM</td>\n",
       "      <td>0.884146</td>\n",
       "    </tr>\n",
       "  </tbody>\n",
       "</table>\n",
       "</div>"
      ],
      "text/plain": [
       "          Method  Accuracy\n",
       "0  Random Forest  0.996979\n",
       "1            SVM  0.884146"
      ]
     },
     "execution_count": 6,
     "metadata": {},
     "output_type": "execute_result"
    },
    {
     "data": {
      "image/png": "[encoded data removed]",
      "text/plain": [
       "<Figure size 432x288 with 2 Axes>"
      ]
     },
     "metadata": {
      "needs_background": "light"
     },
     "output_type": "display_data"
    }
   ],
   "source": [
    "from sklearn import svm \n",
    "from sklearn import metrics \n",
    "\n",
    "model = svm.SVC()\n",
    "model.fit(X_train,y_train)\n",
    "prediction=model.predict(X_test)\n",
    "metrics.accuracy_score(prediction,y_test)\n",
    "\n",
    "ac = accuracy_score(y_test,model.predict(X_test))\n",
    "methods = methods.append({'Method': 'SVM', 'Accuracy': ac}, ignore_index=True)\n",
    "cm = confusion_matrix(y_test,model.predict(X_test))\n",
    "sns.heatmap(cm,annot=True,fmt=\"d\")\n",
    "methods"
   ]
  },
  {
   "cell_type": "markdown",
   "metadata": {},
   "source": [
    "In this case, the Random Forest method yielded excellent results, with an accuracy of 99.7%. "
   ]
  },
  {
   "cell_type": "markdown",
   "metadata": {},
   "source": [
    "## 3. Discussion\n",
    "\n",
    "Since the initial diagnostic data set was generated in order to discriminate between two specific classes of tumors, supervised learning techniques would be the most appropriate for its analysis. \n",
    "\n",
    "Feature engineering identified the following 15 key features:\n",
    "1. 'area_mean'\n",
    "1. 'smoothness_mean'\n",
    "1. 'concave points_mean'\n",
    "1. 'symmetry_mean'\n",
    "1. 'fractal_dimension_mean'\n",
    "1. 'texture_se'\n",
    "1. 'area_se'\n",
    "1. 'smoothness_se'\n",
    "1. 'concave points_se'\n",
    "1. 'symmetry_se'\n",
    "1. 'fractal_dimension_se'\n",
    "1. 'texture_worst'\n",
    "1. 'smoothness_worst'\n",
    "1. 'symmetry_worst'\n",
    "1. 'fractal_dimension_worst'\n",
    "\n",
    "The classification carried out during the supervised learning process allowed the generation of a **Random Forest-based model** capable of differentiating between benign and malignant tumors with an accuracy of 99.7%. Although in the original work of Street et al. 1993, three attributes were finally taken for classification, the success rate was somewhat lower. It is possible that, by transforming or combining the attributes, with greater knowledge of tumor physiopathology, it is possible to generate a set of attributes that provide greater performance.\n",
    "\n",
    "In a remarkable way, the diagnostic potential of the methodology proposed in this work can be easily extrapolated to other types of tumors, since the physiopathological characteristics of the tumor tissue involve a mesenchymal cell architecture, common to most tumors. This is due to the fact that tumour cells tend to go through a previous stage of differentiation with great proliferative capacity. It is therefore common to find in these cells characteristics that allow establishing a demarcation criterion with respect to the rest of the cells in their environment, such as the fragmented nucleus, the formation of syncites or the loss of cellular adhesion. In this sense, artificial intelligence techniques could assist and support biomedical research."
   ]
  },
  {
   "cell_type": "code",
   "execution_count": null,
   "metadata": {},
   "outputs": [],
   "source": []
  }
 ],
 "metadata": {
  "kernelspec": {
   "display_name": "Python",
   "language": "python",
   "name": "conda-env-python-py"
  },
  "language_info": {
   "codemirror_mode": {
    "name": "ipython",
    "version": 3
   },
   "file_extension": ".py",
   "mimetype": "text/x-python",
   "name": "python",
   "nbconvert_exporter": "python",
   "pygments_lexer": "ipython3",
   "version": "3.6.11"
  }
 },
 "nbformat": 4,
 "nbformat_minor": 4
}
