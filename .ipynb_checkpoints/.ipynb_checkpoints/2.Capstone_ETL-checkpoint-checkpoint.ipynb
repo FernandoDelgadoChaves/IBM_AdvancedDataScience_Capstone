{
 "cells": [
  {
   "cell_type": "markdown",
   "metadata": {},
   "source": [
    "# **Advanced Data Science Capstone: Automated Image Processing for Breast Tumor Biopsies**\n",
    "\n",
    "# **ETL Notebook**\n",
    "Author: Fernando M. Delgado Chaves\n"
   ]
  },
  {
   "cell_type": "markdown",
   "metadata": {},
   "source": [
    "## 2. Results\n",
    "### 2.2 ETL"
   ]
  }
 ],
 "metadata": {
  "kernelspec": {
   "display_name": "Python",
   "language": "python",
   "name": "conda-env-python-py"
  },
  "language_info": {
   "codemirror_mode": {
    "name": "ipython",
    "version": 3
   },
   "file_extension": ".py",
   "mimetype": "text/x-python",
   "name": "python",
   "nbconvert_exporter": "python",
   "pygments_lexer": "ipython3",
   "version": "3.6.11"
  }
 },
 "nbformat": 4,
 "nbformat_minor": 4
}
